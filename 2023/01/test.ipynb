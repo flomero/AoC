{
 "cells": [
  {
   "cell_type": "code",
   "execution_count": 11,
   "metadata": {},
   "outputs": [
    {
     "name": "stdout",
     "output_type": "stream",
     "text": [
      "29\n",
      "83\n",
      "13\n",
      "24\n",
      "42\n",
      "14\n",
      "76\n",
      "281\n"
     ]
    }
   ],
   "source": [
    "import re\n",
    "\n",
    "# öffnet die Datei\n",
    "path = \"C:/Users/flofi/repos/CodeImAdvent/2023/01/test2.txt\"\n",
    "file = open(path, \"r\")\n",
    "\n",
    "# Variable für das Ergebnis, muss erstmal leer definiert werden\n",
    "result = 0\n",
    "\n",
    "# Dictionary mit den Zahlen und den zu ersetzenden Werten\n",
    "# Trick: Zahlen mit erstem und letztem Buchstaben ersetzen, falls Buchstaben doppelt verwendet werden\n",
    "number_dict = {\n",
    "        'one': 'o1e',\n",
    "        'two': 't2o',\n",
    "        'three': 't3e',\n",
    "        'four': 'f4r',\n",
    "        'five': 'f5e',\n",
    "        'six': 's6x',\n",
    "        'seven': 's7n',\n",
    "        'eight': 'e8t',\n",
    "        'nine': 'n9e',\n",
    "        \n",
    "    }\n",
    "\n",
    "# Pattern für re.sub, | bedeutet \"oder\" -> one|two|three|four|five|six|seven|eight|nine\n",
    "pattern = '|'.join(number_dict.keys())\n",
    "# Function für re.sub, match.group(0) ist der gefundene String, der durch den Wert aus dem Dict ersetzt wird\n",
    "def replace(match):\n",
    "    return number_dict[match.group(0)]\n",
    "\n",
    "# liest die Datei Zeile für Zeile ein\n",
    "for line in file.readlines():    \n",
    "    # läuft solange durch, bis kein Match mehr gefunden wird\n",
    "    while re.search(pattern, line):\n",
    "        # ersetzt den ersten gefundenen String\n",
    "        line = re.sub(pattern, replace, line)\n",
    "    # String, der die Zahlen enthält, String da nicht addiert sondern konkateniert wird -> 1 + 2 = 12\n",
    "    lineValue = \"\"\n",
    "    # läuft durch den String und sucht nach Zahlen\n",
    "    for x in line:\n",
    "        if x.isdigit():\n",
    "            # kurz für lineValue = lineValue + x\n",
    "            lineValue += x\n",
    "    # addiert den Wert der Zeile zum Ergebnis\n",
    "    # int() damit die Zahlen addiert werden -> 1 + 2 = 3\n",
    "    result += int(lineValue[0] + lineValue[-1])\n",
    "    \n",
    "\n",
    "print(result)\n",
    "\n",
    "# best practice: schließt die Datei wieder\n",
    "file.close()\n"
   ]
  }
 ],
 "metadata": {
  "kernelspec": {
   "display_name": "Python 3",
   "language": "python",
   "name": "python3"
  },
  "language_info": {
   "codemirror_mode": {
    "name": "ipython",
    "version": 3
   },
   "file_extension": ".py",
   "mimetype": "text/x-python",
   "name": "python",
   "nbconvert_exporter": "python",
   "pygments_lexer": "ipython3",
   "version": "3.10.0"
  }
 },
 "nbformat": 4,
 "nbformat_minor": 2
}
